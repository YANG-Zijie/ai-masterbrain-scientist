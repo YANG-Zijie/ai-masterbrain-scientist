{
 "cells": [
  {
   "cell_type": "code",
   "execution_count": 1,
   "metadata": {},
   "outputs": [
    {
     "name": "stdout",
     "output_type": "stream",
     "text": [
      "                                       sum_sq    df        F        PR(>F)\n",
      "Q(\"Gel concentration\")               0.806600   2.0   604.95  3.125975e-17\n",
      "Q(\"Voltage\")                         7.018400   2.0  5263.80  1.229733e-25\n",
      "Q(\"Gel concentration\"):Q(\"Voltage\")  0.148267   4.0    55.60  6.898323e-10\n",
      "Residual                             0.012000  18.0      NaN           NaN\n"
     ]
    }
   ],
   "source": [
    "import pandas as pd\n",
    "import numpy as np\n",
    "import statsmodels.api as sm\n",
    "from statsmodels.formula.api import ols\n",
    "\n",
    "# Read the .csv file\n",
    "data = pd.read_csv(\"migration_data.csv\")\n",
    "\n",
    "# Reshape the data\n",
    "long_data = pd.melt(data, id_vars=['Gel concentration', 'Voltage'], var_name='Repeat', value_name='Migration distance')\n",
    "\n",
    "# Perform two-way ANOVA\n",
    "model = ols('Q(\"Migration distance\") ~ Q(\"Gel concentration\") * Q(\"Voltage\")', data=long_data).fit()\n",
    "anova_table = sm.stats.anova_lm(model, typ=2)\n",
    "\n",
    "# Print the ANOVA table\n",
    "print(anova_table)\n"
   ]
  },
  {
   "cell_type": "code",
   "execution_count": 2,
   "metadata": {},
   "outputs": [
    {
     "data": {
      "image/png": "[encoded data removed]",
      "text/plain": [
       "<Figure size 432x288 with 1 Axes>"
      ]
     },
     "metadata": {
      "needs_background": "light"
     },
     "output_type": "display_data"
    }
   ],
   "source": [
    "import pandas as pd\n",
    "import seaborn as sns\n",
    "import matplotlib.pyplot as plt\n",
    "\n",
    "# Read the .csv file\n",
    "data = pd.read_csv(\"migration_data.csv\")\n",
    "\n",
    "# Reshape the data\n",
    "long_data = pd.melt(data, id_vars=['Gel concentration', 'Voltage'], var_name='Repeat', value_name='Migration distance')\n",
    "\n",
    "# Calculate the mean migration distance for each combination of gel concentration and voltage\n",
    "mean_data = long_data.groupby(['Gel concentration', 'Voltage']).mean().reset_index()\n",
    "\n",
    "# Create the interaction plot\n",
    "sns.set(style=\"whitegrid\")\n",
    "interaction_plot = sns.lineplot(x=\"Gel concentration\", y=\"Migration distance\", hue=\"Voltage\", data=mean_data, markers=True)\n",
    "\n",
    "plt.title(\"Interaction Plot of Gel Concentration and Voltage\")\n",
    "\n",
    "# Save the plot (Humans added this line of code)\n",
    "plt.savefig('interaction_plot.png')\n",
    "\n",
    "plt.show()\n"
   ]
  },
  {
   "cell_type": "code",
   "execution_count": 3,
   "metadata": {},
   "outputs": [
    {
     "name": "stdout",
     "output_type": "stream",
     "text": [
      "                            OLS Regression Results                            \n",
      "==============================================================================\n",
      "Dep. Variable:          Mean Distance   R-squared:                       0.960\n",
      "Model:                            OLS   Adj. R-squared:                  0.946\n",
      "Method:                 Least Squares   F-statistic:                     71.12\n",
      "Date:                Sun, 02 Apr 2023   Prob (F-statistic):           6.63e-05\n",
      "Time:                        23:17:40   Log-Likelihood:                 7.1495\n",
      "No. Observations:                   9   AIC:                            -8.299\n",
      "Df Residuals:                       6   BIC:                            -7.707\n",
      "Df Model:                           2                                         \n",
      "Covariance Type:            nonrobust                                         \n",
      "=====================================================================================\n",
      "                        coef    std err          t      P>|t|      [0.025      0.975]\n",
      "-------------------------------------------------------------------------------------\n",
      "const                 0.5640      0.236      2.388      0.054      -0.014       1.142\n",
      "Gel Concentration    -0.4233      0.109     -3.872      0.008      -0.691      -0.156\n",
      "Voltage               0.0247      0.002     11.280      0.000       0.019       0.030\n",
      "==============================================================================\n",
      "Omnibus:                        0.919   Durbin-Watson:                   0.584\n",
      "Prob(Omnibus):                  0.632   Jarque-Bera (JB):                0.674\n",
      "Skew:                          -0.337   Prob(JB):                        0.714\n",
      "Kurtosis:                       1.841   Cond. No.                         434.\n",
      "==============================================================================\n",
      "\n",
      "Notes:\n",
      "[1] Standard Errors assume that the covariance matrix of the errors is correctly specified.\n"
     ]
    },
    {
     "name": "stderr",
     "output_type": "stream",
     "text": [
      "/Users/yangzijie/opt/anaconda3/lib/python3.9/site-packages/scipy/stats/stats.py:1541: UserWarning: kurtosistest only valid for n>=20 ... continuing anyway, n=9\n",
      "  warnings.warn(\"kurtosistest only valid for n>=20 ... continuing \"\n"
     ]
    }
   ],
   "source": [
    "import pandas as pd\n",
    "import statsmodels.api as sm\n",
    "\n",
    "# Prepare the data for regression analysis\n",
    "data = pd.DataFrame({\n",
    "    'Gel Concentration': [1.0, 1.5, 2.0, 1.0, 1.5, 2.0, 1.0, 1.5, 2.0],\n",
    "    'Voltage': [50, 50, 50, 75, 75, 75, 100, 100, 100],\n",
    "    'Mean Distance': [1.193, 1.107, 1.017, 2.147, 1.873, 1.657, 2.637, 2.347, 2.033]\n",
    "})\n",
    "\n",
    "# Perform multiple linear regression\n",
    "X = data[['Gel Concentration', 'Voltage']]\n",
    "X = sm.add_constant(X)  # Add an intercept to the model\n",
    "y = data['Mean Distance']\n",
    "\n",
    "model = sm.OLS(y, X).fit()\n",
    "\n",
    "# Print the regression results\n",
    "print(model.summary())"
   ]
  },
  {
   "cell_type": "code",
   "execution_count": null,
   "metadata": {},
   "outputs": [],
   "source": []
  }
 ],
 "metadata": {
  "kernelspec": {
   "display_name": "snpro",
   "language": "python",
   "name": "python3"
  },
  "language_info": {
   "codemirror_mode": {
    "name": "ipython",
    "version": 3
   },
   "file_extension": ".py",
   "mimetype": "text/x-python",
   "name": "python",
   "nbconvert_exporter": "python",
   "pygments_lexer": "ipython3",
   "version": "3.9.12"
  },
  "orig_nbformat": 4,
  "vscode": {
   "interpreter": {
    "hash": "7856a2d222d8915445d7b4a0e6a3e2b665a4120296d48f5faa1448729bcc9636"
   }
  }
 },
 "nbformat": 4,
 "nbformat_minor": 2
}
